{
 "cells": [
  {
   "cell_type": "markdown",
   "metadata": {},
   "source": [
    "# Count Min Sketch"
   ]
  },
  {
   "cell_type": "markdown",
   "metadata": {},
   "source": [
    "This is my implementation of a count-min sketch, a probabilistic data structure that serves as a frequency table of events in a stream of data. Its very useful for identifying heavy-hitters, in for example detecting denial of service attacks. "
   ]
  },
  {
   "cell_type": "code",
   "execution_count": 7,
   "metadata": {},
   "outputs": [],
   "source": [
    "import hashlib\n",
    "import numpy as np\n",
    "from collections import Counter\n",
    "import random"
   ]
  },
  {
   "cell_type": "code",
   "execution_count": 8,
   "metadata": {},
   "outputs": [],
   "source": [
    "class CountMinSketch():\n",
    "    def __init__(self, trial):\n",
    "        self.trial = trial #from 1..10 inclusive\n",
    "        self.tables = np.zeros((4, 256))\n",
    "\n",
    "    def get_byte(self, hashed, byte):\n",
    "        \"\"\"\n",
    "        args:\n",
    "            hashed {string} -- an md5 hash \n",
    "            byte {int} -- between 0..3 \n",
    "            \n",
    "        returns:\n",
    "            string -- a byte of the hex string (0th byte is first byte)\n",
    "        \"\"\"\n",
    "        start = byte * 2\n",
    "        end = (byte * 2) + 2\n",
    "        return hashed[start:end]\n",
    "\n",
    "    def get_hash(self, elem, table):\n",
    "        \"\"\"\n",
    "        args: \n",
    "            elem -- the element to be hashed\n",
    "            table -- value between 0 and 3\n",
    "        \n",
    "        returns:\n",
    "            integer hash value between 0 and 255\n",
    "        \"\"\"\n",
    "        x = str(elem) + str(self.trial - 1)\n",
    "        hashed = hashlib.md5(x.encode('utf-8')).hexdigest() \n",
    "        byte = self.get_byte(hashed, table)\n",
    "        return int(byte, 16)\n",
    "        \n",
    "    def increment(self, elem):\n",
    "        for i in range(len(self.tables)):\n",
    "            self.tables[i][self.get_hash(elem, i)] += 1\n",
    "            \n",
    "    def conservative_update(self, elem):\n",
    "        vals = []\n",
    "        for i in range(len(self.tables)):\n",
    "            vals.append(self.tables[i][self.get_hash(elem, i)])\n",
    "        smallest = min(vals)\n",
    "        for i in range(len(self.tables)):\n",
    "            if self.tables[i][self.get_hash(elem, i)] == smallest:\n",
    "                self.tables[i][self.get_hash(elem, i)] += 1\n",
    "            \n",
    "    def count(self, elem):\n",
    "        answer = float('inf')\n",
    "        for i in range(len(self.tables)):\n",
    "            val = self.tables[i][self.get_hash(elem, i)]\n",
    "            answer = min(val, answer)\n",
    "        assert answer != float('inf')\n",
    "        return answer\n",
    "    \n",
    "    def heavy_hitters(self):\n",
    "        hitters = 0\n",
    "        for i in range(9051):\n",
    "            if self.count(i) > .01 * 87925:\n",
    "                hitters += 1\n",
    "        return hitters"
   ]
  },
  {
   "cell_type": "code",
   "execution_count": 9,
   "metadata": {},
   "outputs": [],
   "source": [
    "def generate_data():\n",
    "    #data with a specific distribution for testing\n",
    "    data = []\n",
    "    for k in range(1, 9001):\n",
    "        data +=  [k] * (int((k-1)/1000) + 1)\n",
    "\n",
    "    for k in range(1, 51):\n",
    "        for j in range(k ** 2):\n",
    "            data.append(9000 + k)\n",
    "    \n",
    "    return data\n",
    "\n",
    "data = generate_data()\n",
    "forward = sorted(data)\n",
    "reverse = forward[::-1][:]\n",
    "randomized = data[:]\n",
    "random.shuffle(randomized)"
   ]
  },
  {
   "cell_type": "markdown",
   "metadata": {},
   "source": [
    "Below, I examine my implementation to calculate:\n",
    "\n",
    "- the sketch’s estimate for the frequency of element 9050 given the above data\n",
    "- The sketch’s estimate for the number of heavy hitters \n",
    "\n",
    "It turns out that the order of the stream affects the estimated counts! Which is pretty interesting"
   ]
  },
  {
   "cell_type": "code",
   "execution_count": 10,
   "metadata": {},
   "outputs": [],
   "source": [
    "def trials(array, conservative=False):\n",
    "    v9050 = []\n",
    "    vhitters = []\n",
    "    for i in range(1, 10):\n",
    "        cms = CountMinSketch(trial = i)\n",
    "        for elem in array:\n",
    "            if conservative:\n",
    "                cms.conservative_update(elem)\n",
    "            else:\n",
    "                cms.increment(elem)\n",
    "        v9050.append(cms.count(9050))\n",
    "        vhitters.append(cms.heavy_hitters())\n",
    "    return np.mean(v9050), np.mean(vhitters)"
   ]
  },
  {
   "cell_type": "code",
   "execution_count": 11,
   "metadata": {},
   "outputs": [
    {
     "name": "stdout",
     "output_type": "stream",
     "text": [
      "(2642.6666666666665, 23.88888888888889)\n",
      "(2642.6666666666665, 23.88888888888889)\n",
      "(2642.6666666666665, 23.88888888888889)\n"
     ]
    }
   ],
   "source": [
    "print(trials(forward))\n",
    "print(trials(reverse))\n",
    "print(trials(randomized))"
   ]
  },
  {
   "cell_type": "code",
   "execution_count": 12,
   "metadata": {},
   "outputs": [
    {
     "name": "stdout",
     "output_type": "stream",
     "text": [
      "(2576.777777777778, 22.22222222222222)\n",
      "(2500.0, 21.22222222222222)\n",
      "(2500.0, 21.22222222222222)\n"
     ]
    }
   ],
   "source": [
    "print(trials(forward, conservative=True))\n",
    "print(trials(reverse, conservative=True))\n",
    "print(trials(randomized,conservative=True))"
   ]
  }
 ],
 "metadata": {
  "kernelspec": {
   "display_name": "Python 3",
   "language": "python",
   "name": "python3"
  },
  "language_info": {
   "codemirror_mode": {
    "name": "ipython",
    "version": 3
   },
   "file_extension": ".py",
   "mimetype": "text/x-python",
   "name": "python",
   "nbconvert_exporter": "python",
   "pygments_lexer": "ipython3",
   "version": "3.7.3"
  }
 },
 "nbformat": 4,
 "nbformat_minor": 2
}
