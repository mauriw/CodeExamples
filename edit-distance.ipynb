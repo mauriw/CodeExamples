{
 "cells": [
  {
   "cell_type": "markdown",
   "metadata": {},
   "source": [
    "# Edit Distance\n",
    "\n",
    "I like this algorithm implementation because its clean and smart\n",
    "\n",
    "Insertions and deletions cost 1, substitutions cost 2"
   ]
  },
  {
   "cell_type": "code",
   "execution_count": 2,
   "metadata": {},
   "outputs": [],
   "source": [
    "import numpy as np"
   ]
  },
  {
   "cell_type": "code",
   "execution_count": 5,
   "metadata": {},
   "outputs": [],
   "source": [
    "def edit_distance(a, b):\n",
    "  #initialize the array to 0s, height\n",
    "  h = len(a) + 1\n",
    "  w = len(b) + 1\n",
    "  matrix = np.zeros((h, w))\n",
    "\n",
    "  #initilize first row and column\n",
    "  matrix[0, :] = np.arange(w)\n",
    "  matrix[:, 0] = np.arange(h)\n",
    "\n",
    "  for i in range(1, h):\n",
    "    for j in range(1, w):\n",
    "      if a[i - 1] == b[j - 1]:\n",
    "        matrix[i,j] = matrix[i-1][j-1]\n",
    "      else:\n",
    "        matrix[i,j] = min(matrix[i-1][j-1] + 2, matrix[i-1][j] + 1, matrix[i, j-1] + 1)\n",
    "\n",
    "  return matrix[len(a), len(b)]"
   ]
  },
  {
   "cell_type": "code",
   "execution_count": 8,
   "metadata": {},
   "outputs": [
    {
     "name": "stdout",
     "output_type": "stream",
     "text": [
      "1.0\n",
      "9.0\n"
     ]
    }
   ],
   "source": [
    "#examples\n",
    "print(edit_distance('abba', 'aba'))\n",
    "print(edit_distance('superman', 'batmans'))"
   ]
  },
  {
   "cell_type": "code",
   "execution_count": null,
   "metadata": {},
   "outputs": [],
   "source": []
  }
 ],
 "metadata": {
  "kernelspec": {
   "display_name": "Python 3",
   "language": "python",
   "name": "python3"
  },
  "language_info": {
   "codemirror_mode": {
    "name": "ipython",
    "version": 3
   },
   "file_extension": ".py",
   "mimetype": "text/x-python",
   "name": "python",
   "nbconvert_exporter": "python",
   "pygments_lexer": "ipython3",
   "version": "3.7.3"
  }
 },
 "nbformat": 4,
 "nbformat_minor": 2
}
